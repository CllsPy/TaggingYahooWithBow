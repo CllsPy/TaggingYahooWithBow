{
 "cells": [
  {
   "cell_type": "markdown",
   "id": "d1309b9b",
   "metadata": {},
   "source": [
    "# load data"
   ]
  },
  {
   "cell_type": "code",
   "execution_count": 61,
   "id": "a10bae4e",
   "metadata": {},
   "outputs": [
    {
     "data": {
      "text/plain": [
       "Dataset({\n",
       "    features: ['id', 'topic', 'question_title', 'question_content', 'best_answer'],\n",
       "    num_rows: 1400000\n",
       "})"
      ]
     },
     "execution_count": 61,
     "metadata": {},
     "output_type": "execute_result"
    }
   ],
   "source": [
    "from datasets import load_dataset\n",
    "\n",
    "hf_dataset = load_dataset(\"community-datasets/yahoo_answers_topics\", split=\"train\")\n",
    "hf_dataset"
   ]
  },
  {
   "cell_type": "code",
   "execution_count": 62,
   "id": "87cd2ba7",
   "metadata": {},
   "outputs": [
    {
     "data": {
      "text/plain": [
       "{'id': [0, 1, 2, 3, 4],\n",
       " 'topic': [4, 5, 2, 6, 6],\n",
       " 'question_title': [\"why doesn't an optical mouse work on a glass table?\",\n",
       "  'What is the best off-road motorcycle trail ?',\n",
       "  'What is Trans Fat? How to reduce that?',\n",
       "  'How many planes Fedex has?',\n",
       "  'In the san francisco bay area, does it make sense to rent or buy ?'],\n",
       " 'question_content': ['or even on some surfaces?',\n",
       "  'long-distance trail throughout CA',\n",
       "  'I heard that tras fat is bad for the body.  Why is that? Where can we find it in our daily food?',\n",
       "  'I heard that it is the largest airline in the world',\n",
       "  'the prices of rent and the price of buying does not make sense to me, mostly the rent will not cover the mortgage . Is it better to rent a house or to buy?'],\n",
       " 'best_answer': ['Optical mice use an LED and a camera to rapidly capture images of the surface beneath the mouse.  The infomation from the camera is analyzed by a DSP (Digital Signal Processor) and used to detect imperfections in the underlying surface and determine motion. Some materials, such as glass, mirrors or other very shiny, uniform surfaces interfere with the ability of the DSP to accurately analyze the surface beneath the mouse.  \\\\nSince glass is transparent and very uniform, the mouse is unable to pick up enough imperfections in the underlying surface to determine motion.  Mirrored surfaces are also a problem, since they constantly reflect back the same image, causing the DSP not to recognize motion properly. When the system is unable to see surface changes associated with movement, the mouse will not work properly.',\n",
       "  'i hear that the mojave road is amazing!<br />\\\\nsearch for it online.',\n",
       "  'Trans fats occur in manufactured foods during the process of partial hydrogenation, when hydrogen gas is bubbled through vegetable oil to increase shelf life and stabilize the original polyunsatured oil. The resulting fat is similar to saturated fat, which raises \"bad\" LDL cholesterol and can lead to clogged arteries and heart disease. \\\\nUntil very recently, food labels were not required to list trans fats, and this health risk remained hidden to consumers. In early July, FDA regulations changed, and food labels will soon begin identifying trans fat content in processed foods.',\n",
       "  'according to the www.fedex.com web site:\\\\nAir Fleet<br />\\\\n  <br />\\\\n670 aircraft, including: <br />\\\\n47 Airbus A300-600s  17 Boeing DC10-30s  <br />\\\\n62 Airbus A310-200/300s  36 Boeing MD10-10s  <br />\\\\n2 ATR 72s  5 Boeing MD10-30s  <br />\\\\n29 ATR 42s  57 Boeing MD11s  <br />\\\\n18 Boeing 727-100s  10 Cessna 208As  <br />\\\\n94 Boeing 727-200s  246 Cessna 208Bs  <br />\\\\n30 Boeing DC10-10s  17 Fokker F-27s',\n",
       "  'renting vs buying depends on your goals. <br />\\\\ngenerally thinking is that buying is better b/c the payments that would go into the rent start building equity in your home. the govt also incentivizes you to buy by making your property tax payments and mortgage interest payments tax deductible.\\\\nhaving said that current housing status in the bay area is such that housing cost to purchase is relatively high and rental prices (compared to ownership cost) are relatively low (relative to the rest of the country). it makes lese sense to buy vs. other places.\\\\nbottom line you should base your decision on whether you think the market will keep going up or not. the other numbers tend to even out, the main gain or loss in buying comes from appreciation/depreciation.']}"
      ]
     },
     "execution_count": 62,
     "metadata": {},
     "output_type": "execute_result"
    }
   ],
   "source": [
    "hf_dataset[:5]"
   ]
  },
  {
   "cell_type": "markdown",
   "id": "1b8acc80",
   "metadata": {},
   "source": [
    "## convert to pandas"
   ]
  },
  {
   "cell_type": "code",
   "execution_count": 63,
   "id": "239ad8b8",
   "metadata": {},
   "outputs": [
    {
     "data": {
      "text/html": [
       "<div>\n",
       "<style scoped>\n",
       "    .dataframe tbody tr th:only-of-type {\n",
       "        vertical-align: middle;\n",
       "    }\n",
       "\n",
       "    .dataframe tbody tr th {\n",
       "        vertical-align: top;\n",
       "    }\n",
       "\n",
       "    .dataframe thead th {\n",
       "        text-align: right;\n",
       "    }\n",
       "</style>\n",
       "<table border=\"1\" class=\"dataframe\">\n",
       "  <thead>\n",
       "    <tr style=\"text-align: right;\">\n",
       "      <th></th>\n",
       "      <th>id</th>\n",
       "      <th>topic</th>\n",
       "      <th>question_title</th>\n",
       "      <th>question_content</th>\n",
       "      <th>best_answer</th>\n",
       "    </tr>\n",
       "  </thead>\n",
       "  <tbody>\n",
       "    <tr>\n",
       "      <th>0</th>\n",
       "      <td>0</td>\n",
       "      <td>4</td>\n",
       "      <td>why doesn't an optical mouse work on a glass t...</td>\n",
       "      <td>or even on some surfaces?</td>\n",
       "      <td>Optical mice use an LED and a camera to rapidl...</td>\n",
       "    </tr>\n",
       "    <tr>\n",
       "      <th>1</th>\n",
       "      <td>1</td>\n",
       "      <td>5</td>\n",
       "      <td>What is the best off-road motorcycle trail ?</td>\n",
       "      <td>long-distance trail throughout CA</td>\n",
       "      <td>i hear that the mojave road is amazing!&lt;br /&gt;\\...</td>\n",
       "    </tr>\n",
       "    <tr>\n",
       "      <th>2</th>\n",
       "      <td>2</td>\n",
       "      <td>2</td>\n",
       "      <td>What is Trans Fat? How to reduce that?</td>\n",
       "      <td>I heard that tras fat is bad for the body.  Wh...</td>\n",
       "      <td>Trans fats occur in manufactured foods during ...</td>\n",
       "    </tr>\n",
       "    <tr>\n",
       "      <th>3</th>\n",
       "      <td>3</td>\n",
       "      <td>6</td>\n",
       "      <td>How many planes Fedex has?</td>\n",
       "      <td>I heard that it is the largest airline in the ...</td>\n",
       "      <td>according to the www.fedex.com web site:\\nAir ...</td>\n",
       "    </tr>\n",
       "    <tr>\n",
       "      <th>4</th>\n",
       "      <td>4</td>\n",
       "      <td>6</td>\n",
       "      <td>In the san francisco bay area, does it make se...</td>\n",
       "      <td>the prices of rent and the price of buying doe...</td>\n",
       "      <td>renting vs buying depends on your goals. &lt;br /...</td>\n",
       "    </tr>\n",
       "  </tbody>\n",
       "</table>\n",
       "</div>"
      ],
      "text/plain": [
       "   id  topic                                     question_title  \\\n",
       "0   0      4  why doesn't an optical mouse work on a glass t...   \n",
       "1   1      5       What is the best off-road motorcycle trail ?   \n",
       "2   2      2             What is Trans Fat? How to reduce that?   \n",
       "3   3      6                         How many planes Fedex has?   \n",
       "4   4      6  In the san francisco bay area, does it make se...   \n",
       "\n",
       "                                    question_content  \\\n",
       "0                          or even on some surfaces?   \n",
       "1                  long-distance trail throughout CA   \n",
       "2  I heard that tras fat is bad for the body.  Wh...   \n",
       "3  I heard that it is the largest airline in the ...   \n",
       "4  the prices of rent and the price of buying doe...   \n",
       "\n",
       "                                         best_answer  \n",
       "0  Optical mice use an LED and a camera to rapidl...  \n",
       "1  i hear that the mojave road is amazing!<br />\\...  \n",
       "2  Trans fats occur in manufactured foods during ...  \n",
       "3  according to the www.fedex.com web site:\\nAir ...  \n",
       "4  renting vs buying depends on your goals. <br /...  "
      ]
     },
     "execution_count": 63,
     "metadata": {},
     "output_type": "execute_result"
    }
   ],
   "source": [
    "df_pandas = hf_dataset.to_pandas()\n",
    "df_pandas.head()"
   ]
  },
  {
   "cell_type": "markdown",
   "id": "79de6d97",
   "metadata": {},
   "source": [
    "## mapear classe"
   ]
  },
  {
   "cell_type": "code",
   "execution_count": 64,
   "id": "d110f8d2",
   "metadata": {},
   "outputs": [],
   "source": [
    "topic_labels = {\n",
    "    0: \"Society & Culture\",\n",
    "    1: \"Science & Mathematics\",\n",
    "    2: \"Health\",\n",
    "    3: \"Education & Reference\",\n",
    "    4: \"Computers & Internet\",\n",
    "    5: \"Sports\",\n",
    "    6: \"Business & Finance\",\n",
    "    7: \"Entertainment & Music\",\n",
    "    8: \"Family & Relationships\",\n",
    "    9: \"Politics & Government\"\n",
    "}"
   ]
  },
  {
   "cell_type": "code",
   "execution_count": 65,
   "id": "68e9fd71",
   "metadata": {},
   "outputs": [
    {
     "data": {
      "text/plain": [
       "0          Computers & Internet\n",
       "1                        Sports\n",
       "2                        Health\n",
       "3            Business & Finance\n",
       "4            Business & Finance\n",
       "                   ...         \n",
       "1399995                  Health\n",
       "1399996      Business & Finance\n",
       "1399997                  Health\n",
       "1399998       Society & Culture\n",
       "1399999    Computers & Internet\n",
       "Name: topic_name, Length: 1400000, dtype: object"
      ]
     },
     "execution_count": 65,
     "metadata": {},
     "output_type": "execute_result"
    }
   ],
   "source": [
    "df_pandas[\"topic_name\"] = df_pandas[\"topic\"].map(topic_labels)\n",
    "df_pandas[\"topic_name\"]"
   ]
  },
  {
   "cell_type": "markdown",
   "id": "83ed6c08",
   "metadata": {},
   "source": [
    "## criar sample"
   ]
  },
  {
   "cell_type": "code",
   "execution_count": 66,
   "id": "b79db1a2",
   "metadata": {},
   "outputs": [
    {
     "data": {
      "text/plain": [
       "(500, 6)"
      ]
     },
     "execution_count": 66,
     "metadata": {},
     "output_type": "execute_result"
    }
   ],
   "source": [
    "df_copy = df_pandas.sample(n=500)\n",
    "df_copy.shape"
   ]
  },
  {
   "cell_type": "code",
   "execution_count": 67,
   "id": "8d191ac2",
   "metadata": {},
   "outputs": [
    {
     "data": {
      "text/html": [
       "<div>\n",
       "<style scoped>\n",
       "    .dataframe tbody tr th:only-of-type {\n",
       "        vertical-align: middle;\n",
       "    }\n",
       "\n",
       "    .dataframe tbody tr th {\n",
       "        vertical-align: top;\n",
       "    }\n",
       "\n",
       "    .dataframe thead th {\n",
       "        text-align: right;\n",
       "    }\n",
       "</style>\n",
       "<table border=\"1\" class=\"dataframe\">\n",
       "  <thead>\n",
       "    <tr style=\"text-align: right;\">\n",
       "      <th></th>\n",
       "      <th>id</th>\n",
       "      <th>topic</th>\n",
       "      <th>question_title</th>\n",
       "      <th>question_content</th>\n",
       "      <th>best_answer</th>\n",
       "      <th>topic_name</th>\n",
       "    </tr>\n",
       "  </thead>\n",
       "  <tbody>\n",
       "    <tr>\n",
       "      <th>1054851</th>\n",
       "      <td>1054851</td>\n",
       "      <td>7</td>\n",
       "      <td>Does anyone else thing Nicolas Cage is ugly?!?!?</td>\n",
       "      <td></td>\n",
       "      <td>I used to think that. Now it just depends on t...</td>\n",
       "      <td>Entertainment &amp; Music</td>\n",
       "    </tr>\n",
       "    <tr>\n",
       "      <th>671015</th>\n",
       "      <td>671015</td>\n",
       "      <td>0</td>\n",
       "      <td>Can you give me some good Islamc songs sides i...</td>\n",
       "      <td></td>\n",
       "      <td>I listen to Dawud Wharnsby Ali but I picked up...</td>\n",
       "      <td>Society &amp; Culture</td>\n",
       "    </tr>\n",
       "    <tr>\n",
       "      <th>70391</th>\n",
       "      <td>70391</td>\n",
       "      <td>8</td>\n",
       "      <td>Is all that men want from women is sex?</td>\n",
       "      <td>I have grown up \"knowing\" that the only thing ...</td>\n",
       "      <td>No. If your talking about women in general. Ho...</td>\n",
       "      <td>Family &amp; Relationships</td>\n",
       "    </tr>\n",
       "    <tr>\n",
       "      <th>406842</th>\n",
       "      <td>406842</td>\n",
       "      <td>9</td>\n",
       "      <td>How did you vote for, George Bush, or John Sca...</td>\n",
       "      <td>Kerry is gay and Bush rockes.  Let's Kill them...</td>\n",
       "      <td>I voted for Bush, Kerry had no plan, like the ...</td>\n",
       "      <td>Politics &amp; Government</td>\n",
       "    </tr>\n",
       "    <tr>\n",
       "      <th>5405</th>\n",
       "      <td>5405</td>\n",
       "      <td>6</td>\n",
       "      <td>How did Japan develop its intellectual propert...</td>\n",
       "      <td></td>\n",
       "      <td>The USA - the USA provided 100% of Japan's sel...</td>\n",
       "      <td>Business &amp; Finance</td>\n",
       "    </tr>\n",
       "  </tbody>\n",
       "</table>\n",
       "</div>"
      ],
      "text/plain": [
       "              id  topic                                     question_title  \\\n",
       "1054851  1054851      7   Does anyone else thing Nicolas Cage is ugly?!?!?   \n",
       "671015    671015      0  Can you give me some good Islamc songs sides i...   \n",
       "70391      70391      8            Is all that men want from women is sex?   \n",
       "406842    406842      9  How did you vote for, George Bush, or John Sca...   \n",
       "5405        5405      6  How did Japan develop its intellectual propert...   \n",
       "\n",
       "                                          question_content  \\\n",
       "1054851                                                      \n",
       "671015                                                       \n",
       "70391    I have grown up \"knowing\" that the only thing ...   \n",
       "406842   Kerry is gay and Bush rockes.  Let's Kill them...   \n",
       "5405                                                         \n",
       "\n",
       "                                               best_answer  \\\n",
       "1054851  I used to think that. Now it just depends on t...   \n",
       "671015   I listen to Dawud Wharnsby Ali but I picked up...   \n",
       "70391    No. If your talking about women in general. Ho...   \n",
       "406842   I voted for Bush, Kerry had no plan, like the ...   \n",
       "5405     The USA - the USA provided 100% of Japan's sel...   \n",
       "\n",
       "                     topic_name  \n",
       "1054851   Entertainment & Music  \n",
       "671015        Society & Culture  \n",
       "70391    Family & Relationships  \n",
       "406842    Politics & Government  \n",
       "5405         Business & Finance  "
      ]
     },
     "execution_count": 67,
     "metadata": {},
     "output_type": "execute_result"
    }
   ],
   "source": [
    "df_copy.head()"
   ]
  },
  {
   "cell_type": "markdown",
   "id": "ecedcd71",
   "metadata": {},
   "source": [
    "# Eda"
   ]
  },
  {
   "cell_type": "code",
   "execution_count": 70,
   "id": "9f0acfff",
   "metadata": {},
   "outputs": [
    {
     "data": {
      "image/png": "[encoded data removed]",
      "text/plain": [
       "<Figure size 640x480 with 1 Axes>"
      ]
     },
     "metadata": {},
     "output_type": "display_data"
    }
   ],
   "source": [
    "import matplotlib.pyplot as plt\n",
    "\n",
    "\n",
    "df_copy[\"topic_name\"].value_counts(ascending=True).plot.barh()\n",
    "\n",
    "plt.title(\"Frequency of Classes\")\n",
    "plt.show()"
   ]
  },
  {
   "cell_type": "code",
   "execution_count": null,
   "id": "ee2e9851",
   "metadata": {},
   "outputs": [],
   "source": []
  }
 ],
 "metadata": {
  "kernelspec": {
   "display_name": "taggingyahoowithbow",
   "language": "python",
   "name": "python3"
  },
  "language_info": {
   "codemirror_mode": {
    "name": "ipython",
    "version": 3
   },
   "file_extension": ".py",
   "mimetype": "text/x-python",
   "name": "python",
   "nbconvert_exporter": "python",
   "pygments_lexer": "ipython3",
   "version": "3.13.5"
  }
 },
 "nbformat": 4,
 "nbformat_minor": 5
}
